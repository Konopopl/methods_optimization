{
 "cells": [
  {
   "cell_type": "code",
   "execution_count": 1,
   "metadata": {},
   "outputs": [],
   "source": [
    "\n",
    "    \n",
    "# получить n чисел из последовательности Фиббоначчи\n",
    "def GetFibonacciSequence(n): \n",
    "    sequence = []\n",
    "    a = 0\n",
    "    b = 1\n",
    "    if n == 0: \n",
    "        return sequence.append(a) \n",
    "    elif n == 1: \n",
    "        return sequence.extend([a, b])\n",
    "    elif n == 2:\n",
    "        return sequence.extend([a, b, a + b])\n",
    "    else:\n",
    "        sequence.extend([a, b, a + b])\n",
    "        m = 4\n",
    "        while m < n + 1:\n",
    "            for _ in range(2, m): \n",
    "                a, b = b, a + b \n",
    "            sequence.append(b)\n",
    "            a = 0\n",
    "            b = 1\n",
    "            m += 1\n",
    "        return sequence   \n",
    "n=1000\n",
    "a=GetFibonacciSequence(n)"
   ]
  },
  {
   "cell_type": "code",
   "execution_count": 2,
   "metadata": {},
   "outputs": [],
   "source": [
    "def  GetFibonacciNumber(n): \n",
    "    return(a[n+1]) \n",
    "\n",
    "    "
   ]
  },
  {
   "cell_type": "code",
   "execution_count": 3,
   "metadata": {},
   "outputs": [],
   "source": [
    "#import fibonacci\n",
    "import math\n",
    "import numpy as np"
   ]
  },
  {
   "cell_type": "code",
   "execution_count": 4,
   "metadata": {},
   "outputs": [],
   "source": [
    "def func0(x): \n",
    "    return(math.e**(x))\n",
    "def func1(x):\n",
    "    return(x**6-5*x**4+4*x**2-5*x+2)\n",
    "def func2(x):\n",
    "    return(math.sin(x))\n",
    "def func3(x):\n",
    "    return(x**(2)*math.sin(x))\n",
    "def func4(x):\n",
    "    return(x)\n",
    "\n",
    "def fib(k): \n",
    "    return(float(GetFibonacciNumber(k)))\n",
    "\n",
    "a_start = -10\n",
    "b_start = 10\n",
    "otrez=[]"
   ]
  },
  {
   "cell_type": "code",
   "execution_count": 5,
   "metadata": {},
   "outputs": [],
   "source": [
    "def FibonacciMethod(a_start, b_start, eps, func):\n",
    "    a = a_start\n",
    "    b = b_start \n",
    "    \n",
    "    n = 0\n",
    "    while(fib(n) < (b - a) / eps):\n",
    "        n+= 1 \n",
    "    \"print(n)\"\n",
    "    x1 = a + (fib(n - 2) / fib(n)) * (b - a)\n",
    "    y1 = func(x1)\n",
    "    x2 = a + (fib(n - 1) / fib(n)) * (b - a)\n",
    "    y2 = func(x2) \n",
    "    \n",
    "    for k in range(0, n - 2):\n",
    "        if y1 <= y2:\n",
    "            b = x2\n",
    "            x2 = x1\n",
    "            y2 = y1\n",
    "            x1 = a + (fib(n - k - 3) / fib(n - k - 1)) * (b - a)\n",
    "            y1 = func(x1)\n",
    "        else:\n",
    "            a = x1\n",
    "            x1 = x2\n",
    "            y1 = y2\n",
    "            x2 = a + (fib(n - k - 2) / fib(n - k - 1)) * (b - a)\n",
    "            y2 = func(x2)\n",
    "            \n",
    "    x2 = x1 + eps\n",
    "    y2 = func(x2) \n",
    "    \n",
    "    if y1 <= y2:\n",
    "        b = x1\n",
    "    else:\n",
    "        a = x1   \n",
    "    iters=n-2\n",
    "    return((a+b)/2.0,iters)\n"
   ]
  },
  {
   "cell_type": "code",
   "execution_count": 6,
   "metadata": {},
   "outputs": [
    {
     "name": "stdout",
     "output_type": "stream",
     "text": [
      "(-9.999968534758079, 25)\n"
     ]
    }
   ],
   "source": [
    "print(FibonacciMethod(a_start, b_start, 0.0001, func4))"
   ]
  },
  {
   "cell_type": "code",
   "execution_count": null,
   "metadata": {
    "scrolled": true
   },
   "outputs": [],
   "source": []
  },
  {
   "cell_type": "code",
   "execution_count": null,
   "metadata": {},
   "outputs": [],
   "source": []
  },
  {
   "cell_type": "code",
   "execution_count": null,
   "metadata": {},
   "outputs": [],
   "source": []
  },
  {
   "cell_type": "code",
   "execution_count": 7,
   "metadata": {},
   "outputs": [
    {
     "name": "stdout",
     "output_type": "stream",
     "text": [
      "[]\n",
      "None\n",
      "<class 'matplotlib.figure.Figure'>\n",
      "[<AxesSubplot:title={'center':'N(epsilon)'}, xlabel='epsilon', ylabel='N'>]\n"
     ]
    },
    {
     "data": {
      "image/png": "[encoded data removed]",
      "text/plain": [
       "<Figure size 432x288 with 1 Axes>"
      ]
     },
     "metadata": {
      "needs_background": "light"
     },
     "output_type": "display_data"
    }
   ],
   "source": [
    "from array import *\n",
    "import numpy as np\n",
    "import matplotlib.pyplot as plt\n",
    "from matplotlib import ticker \n",
    "\n",
    "x_array =[]\n",
    "y_array =[]\n",
    "x_array_1 =[]\n",
    "y_array_1 =[]\n",
    "x_array_2 =[]\n",
    "y_array_2 =[]\n",
    "x_array_3 =[]\n",
    "y_array_3 =[]\n",
    "\n",
    "fig = plt.figure()   # Создание объекта Figure\n",
    "print (fig.axes)   # Список текущих областей рисования пуст\n",
    "print (plt.grid())\n",
    "print (type(fig))   # тип объекта Figure\n",
    "\n",
    "#for  i in range (50):\n",
    "#    x_array.append(0.01/((i+1)))\n",
    "#    y_array.append(FibonacciMethod(-10, 10, x_array[i],func0)[1])\n",
    "#for i in range (50):\n",
    "#    plt.plot(x_array, y_array,'r--')\n",
    "x_array.clear()\n",
    "y_array.clear()\n",
    "for  i in range (50):\n",
    "    x_array_1.append(0.01/((i+1)))\n",
    "    y_array_1.append(FibonacciMethod(-10, 10, x_array_1[i],func0)[1])\n",
    "    #y_array_1.append (15)\n",
    "    x_array.append(0.01/((i+1)))\n",
    "    y_array.append(FibonacciMethod(-10, 10, x_array[i],func3)[1])\n",
    "    x_array_2.append(0.01/((i+1)))\n",
    "    y_array_2.append(FibonacciMethod(-10, 10, x_array_2[i],func1)[1])\n",
    "    x_array_3.append(0.01/((i+1)))\n",
    "    y_array_3.append(FibonacciMethod(-10, 10, x_array_3[i],func2)[1])\n",
    "for i in range (50):\n",
    "    #plt.plot(x_array,y_array)\n",
    "    plt.plot(x_array, y_array,'g^', x_array_1 , y_array_1, 'bs',x_array_2, y_array_2, 'r--', x_array_3,y_array_3, '+')\n",
    "#print(x_array)\n",
    "x_array.clear()\n",
    "y_array.clear()\n",
    "\n",
    "\n",
    "#for i in range (50):\n",
    "    #plt.plot(x_array, y_array,'bs',label='label here')\n",
    "    \n",
    "plt.title('N(epsilon)')\n",
    "plt.xlabel('epsilon')\n",
    "plt.ylabel('N')\n",
    "print (fig.axes)\n",
    "\n",
    "plt.show()\n",
    "\n",
    "\n"
   ]
  },
  {
   "cell_type": "code",
   "execution_count": 8,
   "metadata": {},
   "outputs": [
    {
     "name": "stdout",
     "output_type": "stream",
     "text": [
      "-2.288970488749602\n",
      "20\n"
     ]
    }
   ],
   "source": [
    "x_acc = FibonacciMethod(-10, 10, 0.0001, func3)[0]\n",
    "print (x_acc)\n",
    "sigma = b_start - a_start \n",
    "print (sigma)"
   ]
  },
  {
   "cell_type": "code",
   "execution_count": 9,
   "metadata": {},
   "outputs": [],
   "source": [
    "def FibonacciMethod_1(a_start, b_start, eps, func):\n",
    "    a = a_start\n",
    "    b = b_start \n",
    "    otrezok = []\n",
    "    n = 0\n",
    "    while(fib(n) < (b - a) / eps):\n",
    "        n+= 1 \n",
    "        \"print(n)\"\n",
    "    x1 = a + (fib(n - 2) / fib(n)) * (b - a)\n",
    "    y1 = func(x1)\n",
    "    x2 = a + (fib(n - 1) / fib(n)) * (b - a)\n",
    "    y2 = func(x2)\n",
    "    otrezok.append(b-a)\n",
    "    \n",
    "    for k in range(0, n - 2):\n",
    "        if y1 <= y2:\n",
    "            b = x2\n",
    "            x2 = x1\n",
    "            y2 = y1\n",
    "            x1 = a + (fib(n - k - 3) / fib(n - k - 1)) * (b - a)\n",
    "            y1 = func(x1)\n",
    "            otrezok.append(b-a)\n",
    "        else:\n",
    "            a = x1\n",
    "            x1 = x2\n",
    "            y1 = y2\n",
    "            x2 = a + (fib(n - k - 2) / fib(n - k - 1)) * (b - a)\n",
    "            y2 = func(x2)\n",
    "            otrezok.append(b-a)\n",
    "            \n",
    "    x2 = x1 + eps\n",
    "    y2 = func(x2) \n",
    "    \n",
    "    if y1 <= y2:\n",
    "        b = x1\n",
    "    else:\n",
    "        a = x1   \n",
    "    iters=n-2\n",
    "    otrezok.append(b-a)\n",
    "    \n",
    "    return(otrezok)\n"
   ]
  },
  {
   "cell_type": "code",
   "execution_count": 10,
   "metadata": {},
   "outputs": [
    {
     "name": "stdout",
     "output_type": "stream",
     "text": [
      "[20, 12.360679774999781, 7.639320225000218, 4.721359549999564, 2.9179606750006544, 1.8033988749989103, 1.114561800001745, 0.6888370749971653, 0.4257247250045797, 0.2631123499925856, 0.1626123750119941, 0.10049997498059327, 0.06211240003140084, 0.03838757494919243, 0.02372482508220841, 0.014662749866984015, 0.009062075215224397, 0.005600674651759618, 0.003461400563464778, 0.0021392740882948402, 0.001322126475169938, 0.0008171476131249023, 0.0005049788620432594, 0.0003121687510816429, 0.0001928101109616165, 0.0001193586401200264, 7.345147084336645e-05, 4.590716927665994e-05, 2.754430156670651e-05, 1.8362867709953434e-05, 9.181433854976717e-06]\n"
     ]
    }
   ],
   "source": [
    "print (FibonacciMethod_1(a_start, b_start, 0.00001, func4))\n",
    "otrez.clear()"
   ]
  },
  {
   "cell_type": "code",
   "execution_count": 11,
   "metadata": {},
   "outputs": [
    {
     "name": "stdout",
     "output_type": "stream",
     "text": [
      "[]\n",
      "None\n",
      "<class 'matplotlib.figure.Figure'>\n"
     ]
    },
    {
     "data": {
      "text/plain": [
       "[<matplotlib.lines.Line2D at 0x17de3d8adf0>]"
      ]
     },
     "execution_count": 11,
     "metadata": {},
     "output_type": "execute_result"
    },
    {
     "data": {
      "image/png": "[encoded data removed]",
      "text/plain": [
       "<Figure size 432x288 with 1 Axes>"
      ]
     },
     "metadata": {
      "needs_background": "light"
     },
     "output_type": "display_data"
    }
   ],
   "source": [
    "import matplotlib.pyplot as plt\n",
    "fig = plt.figure()\n",
    "print (fig.axes)   # Список текущих областей рисования пуст\n",
    "print (plt.grid())\n",
    "print (type(fig))   # тип объекта Figure\n",
    "plt.plot(FibonacciMethod_1(a_start, b_start, 0.0001, func3))\n"
   ]
  },
  {
   "cell_type": "code",
   "execution_count": 12,
   "metadata": {},
   "outputs": [],
   "source": [
    "def FibonacciMethod_2(a_start, b_start, eps, func):\n",
    "    a = a_start\n",
    "    b = b_start \n",
    "    Delta = []\n",
    "    n = 0\n",
    "    while(fib(n) < (b - a) / eps):\n",
    "        n+= 1 \n",
    "        \"print(n)\"\n",
    "    x1 = a + (fib(n - 2) / fib(n)) * (b - a)\n",
    "    y1 = func(x1)\n",
    "    x2 = a + (fib(n - 1) / fib(n)) * (b - a)\n",
    "    y2 = func(x2)\n",
    "    Delta.append(func(b)-(a))\n",
    "    \n",
    "    for k in range(0, n - 2):\n",
    "        if y1 <= y2:\n",
    "            b = x2\n",
    "            x2 = x1\n",
    "            y2 = y1\n",
    "            x1 = a + (fib(n - k - 3) / fib(n - k - 1)) * (b - a)\n",
    "            y1 = func(x1)\n",
    "            Delta.append(func(b)-(a))\n",
    "        else:\n",
    "            a = x1\n",
    "            x1 = x2\n",
    "            y1 = y2\n",
    "            x2 = a + (fib(n - k - 2) / fib(n - k - 1)) * (b - a)\n",
    "            y2 = func(x2)\n",
    "            Delta.append(func(b)-(a))\n",
    "            \n",
    "    x2 = x1 + eps\n",
    "    y2 = func(x2) \n",
    "    \n",
    "    if y1 <= y2:\n",
    "        b = x1\n",
    "    else:\n",
    "        a = x1   \n",
    "    iters=n-2\n",
    "    Delta.append(func(b)-(a))\n",
    "    \n",
    "    return(Delta)"
   ]
  },
  {
   "cell_type": "code",
   "execution_count": 13,
   "metadata": {},
   "outputs": [
    {
     "name": "stdout",
     "output_type": "stream",
     "text": [
      "[]\n",
      "None\n",
      "<class 'matplotlib.figure.Figure'>\n"
     ]
    },
    {
     "data": {
      "text/plain": [
       "[<matplotlib.lines.Line2D at 0x17de3df7fa0>]"
      ]
     },
     "execution_count": 13,
     "metadata": {},
     "output_type": "execute_result"
    },
    {
     "data": {
      "image/png": "[encoded data removed]",
      "text/plain": [
       "<Figure size 432x288 with 1 Axes>"
      ]
     },
     "metadata": {
      "needs_background": "light"
     },
     "output_type": "display_data"
    }
   ],
   "source": [
    "import matplotlib.pyplot as plt\n",
    "fig = plt.figure()\n",
    "print (fig.axes)   # Список текущих областей рисования пуст\n",
    "print (plt.grid())\n",
    "print (type(fig))   # тип объекта Figure\n",
    "plt.plot(FibonacciMethod_2(a_start, b_start, 0.0001, func4))\n",
    "\n"
   ]
  },
  {
   "cell_type": "code",
   "execution_count": null,
   "metadata": {},
   "outputs": [],
   "source": []
  },
  {
   "cell_type": "code",
   "execution_count": null,
   "metadata": {},
   "outputs": [],
   "source": []
  }
 ],
 "metadata": {
  "kernelspec": {
   "display_name": "Python 3",
   "language": "python",
   "name": "python3"
  },
  "language_info": {
   "codemirror_mode": {
    "name": "ipython",
    "version": 3
   },
   "file_extension": ".py",
   "mimetype": "text/x-python",
   "name": "python",
   "nbconvert_exporter": "python",
   "pygments_lexer": "ipython3",
   "version": "3.8.5"
  }
 },
 "nbformat": 4,
 "nbformat_minor": 4
}
