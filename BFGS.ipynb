{
 "cells": [
  {
   "cell_type": "code",
   "execution_count": 1,
   "metadata": {},
   "outputs": [
    {
     "name": "stdout",
     "output_type": "stream",
     "text": [
      "argmin: [1. 1.]\n",
      "Iteration Count: 0\n"
     ]
    }
   ],
   "source": [
    "import numpy as np\n",
    "import numpy.linalg as ln\n",
    "import scipy as sp\n",
    "import scipy.optimize\n",
    "import matplotlib.pyplot as plt\n",
    "def f(x, b = None, a = None):\n",
    "    if b == None:\n",
    "        b = [1 for i in range(len(x))]\n",
    "    if a == None:\n",
    "        a = [1 for i in range(len(x))]\n",
    "    f_x = 0\n",
    "    for i, el in enumerate(x):\n",
    "        f_x += b[i] * (el - a[i])**2\n",
    "    return f_x\n",
    "\n",
    "\n",
    "def xln(x, e=None): \n",
    "    if e == None:\n",
    "        e = [1 for i in range(len(x))]\n",
    "    xln_x = 0\n",
    "    for i in range(len(x)):\n",
    "        xln_x += x[i]*m.log(x[i] / e[i]) \n",
    "    return xln_x\n",
    "\n",
    "\n",
    "def h(x, a=None):\n",
    "    if a == None:\n",
    "        a = 1\n",
    "    f_x = (x[0] - 1)**2\n",
    "    for i in range(1, len(x)):\n",
    "        f_x += a * (x[i] - x[i-1])**2\n",
    "    return f_x  \n",
    "\n",
    "def grad_f(x, a=None):\n",
    "    if a == None:\n",
    "        a = [1 for i in range(len(x))]\n",
    "    return 2*np.array([(el-a[i]) for i, el in enumerate(x)])  \n",
    "def grad_xln(x, e=None):\n",
    "    if e == None:\n",
    "        e = [1 for i in range(len(x))]\n",
    "    return np.array([np.log(el/e[i])+1 for i, el in enumerate(x)]) \n",
    "\n",
    "def grad_h(x, a =None):\n",
    "    if a == None:\n",
    "        a = 1\n",
    "    return np.array([2 * (x[0] - 1)] + [a * 2 * (x[i] - x[i-1]) - a * 2 * (x[i+1] - x[i]) for i in range(1, len(x) - 1)]\n",
    "                    + [a * 2 * (x[-1] - x[-2])])\n",
    "\n",
    "def log(arr):\n",
    "    \n",
    "    logger = []\n",
    "    \n",
    "    for i in range(len(arr)):\n",
    "        logger.append(arr[i])\n",
    "    return logger\n",
    "\n",
    "def bfgs_method(f, fprime, x0, epsi, maxiter = None):\n",
    "\n",
    "    if maxiter is None:\n",
    "        maxiter = len(x0) * 200\n",
    "    k = 0\n",
    "    gfk = fprime(x0)\n",
    "    N = len(x0)\n",
    "    \n",
    "    global x_current\n",
    "    x_current = []\n",
    "\n",
    "    I = np.eye(N, dtype = int)\n",
    "    Hk = I\n",
    "    xk = x0\n",
    "    \n",
    "    x_current.append(log(xk))\n",
    "    \n",
    "    while ln.norm(gfk) > epsi and k < maxiter:\n",
    "        pk = -np.dot(Hk, gfk)\n",
    "        line_search = sp.optimize.line_search(f, grad_f, xk, pk)\n",
    "        alpha_k = line_search[0]\n",
    "        \n",
    "        xkp1 = xk + alpha_k * pk\n",
    "        sk = xkp1 - xk\n",
    "        xk = xkp1\n",
    "        \n",
    "        x_current.append(log(xk))\n",
    "        \n",
    "        gfkp1 = fprime(xkp1)\n",
    "        yk = gfkp1 - gfk\n",
    "        gfk = gfkp1\n",
    "        \n",
    "        k += 1\n",
    "        \n",
    "        ro = 1.0 / (np.dot(yk, sk))\n",
    "        A1 = I - ro * sk[:, np.newaxis] * yk[np.newaxis, :]\n",
    "        A2 = I - ro * yk[:, np.newaxis] * sk[np.newaxis, :]\n",
    "        Hk = np.dot(A1, np.dot(Hk, A2)) + (ro * sk[:, np.newaxis] *\n",
    "                                                 sk[np.newaxis, :])\n",
    "        \n",
    "    return (xk, k)\n",
    "\n",
    "result, k = bfgs_method(f, grad_f, np.array([1.00, 1.00]), 10e-3)\n",
    "print('argmin: %s' % (result))\n",
    "print('Iteration Count: %s' % (k))"
   ]
  },
  {
   "cell_type": "markdown",
   "metadata": {},
   "source": [
    "# N(e)"
   ]
  },
  {
   "cell_type": "code",
   "execution_count": null,
   "metadata": {},
   "outputs": [],
   "source": []
  },
  {
   "cell_type": "markdown",
   "metadata": {},
   "source": [
    "# $\\|x^k-x^*\\|(k)$"
   ]
  },
  {
   "cell_type": "code",
   "execution_count": 3,
   "metadata": {},
   "outputs": [
    {
     "data": {
      "image/png": "[encoded data removed]",
      "text/plain": [
       "<Figure size 432x288 with 1 Axes>"
      ]
     },
     "metadata": {
      "needs_background": "light"
     },
     "output_type": "display_data"
    }
   ],
   "source": [
    "string = '|x^k-x^*|(k) for  f'# f(x), $\\|x^k-x^*\\|(k)$\n",
    "xlab = 'k'   \n",
    "ylab = '$\\|x^k-x^*\\|$'\n",
    "x_k, N = bfgs_method(f, grad_f, np.array([4,-10,3,11,13,44,26,77]), 10e-3)\n",
    "k = [i for i in range(N + 1)]\n",
    "norma_x = [np.linalg.norm(x_current[i] - x_k) for i in range(len(x_current))]\n",
    "plt.plot(k, norma_x, linewidth = 2, label = ylab + '('+xlab+')')\n",
    "plt.legend(loc = 'best')\n",
    "plt.grid()\n",
    "plt.show()"
   ]
  },
  {
   "cell_type": "markdown",
   "metadata": {},
   "source": [
    "# $\\|f(x^k)-f(x^*)\\|(k)$"
   ]
  },
  {
   "cell_type": "code",
   "execution_count": 4,
   "metadata": {},
   "outputs": [
    {
     "data": {
      "image/png": "[encoded data removed]",
      "text/plain": [
       "<Figure size 432x288 with 1 Axes>"
      ]
     },
     "metadata": {
      "needs_background": "light"
     },
     "output_type": "display_data"
    }
   ],
   "source": [
    "x_k, N =  bfgs_method(f, grad_f, np.array([4,-10,3,11,13,44,26,77]), 10e-3)\n",
    "k = [i for i in range(N + 1)]\n",
    "norma_x = [f(x_current[i]) - f(x_k) for i in range(len(x_current))]\n",
    "    \n",
    "plt.plot(k, norma_x, linewidth = 2, label = '$|f(x^k)-f(x^*)|$' + '('+'k' +')')\n",
    "        \n",
    "plt.title(string, size = 14)\n",
    "plt.xlabel(xlab, size = 14)\n",
    "plt.ylabel(ylab, size = 14)\n",
    "\n",
    "plt.legend(loc = 'best')\n",
    "plt.grid()\n",
    "plt.show()"
   ]
  },
  {
   "cell_type": "code",
   "execution_count": null,
   "metadata": {},
   "outputs": [],
   "source": [
    "\n",
    "\n",
    "\n"
   ]
  },
  {
   "cell_type": "code",
   "execution_count": null,
   "metadata": {},
   "outputs": [],
   "source": []
  },
  {
   "cell_type": "code",
   "execution_count": null,
   "metadata": {},
   "outputs": [],
   "source": []
  },
  {
   "cell_type": "code",
   "execution_count": null,
   "metadata": {},
   "outputs": [],
   "source": [
    " \n",
    "     \n",
    "        "
   ]
  },
  {
   "cell_type": "code",
   "execution_count": null,
   "metadata": {},
   "outputs": [],
   "source": []
  },
  {
   "cell_type": "code",
   "execution_count": null,
   "metadata": {},
   "outputs": [],
   "source": []
  },
  {
   "cell_type": "code",
   "execution_count": null,
   "metadata": {},
   "outputs": [],
   "source": []
  },
  {
   "cell_type": "code",
   "execution_count": null,
   "metadata": {},
   "outputs": [],
   "source": []
  },
  {
   "cell_type": "code",
   "execution_count": null,
   "metadata": {},
   "outputs": [],
   "source": []
  },
  {
   "cell_type": "code",
   "execution_count": null,
   "metadata": {},
   "outputs": [],
   "source": []
  },
  {
   "cell_type": "code",
   "execution_count": null,
   "metadata": {},
   "outputs": [],
   "source": []
  },
  {
   "cell_type": "code",
   "execution_count": null,
   "metadata": {},
   "outputs": [],
   "source": []
  },
  {
   "cell_type": "code",
   "execution_count": null,
   "metadata": {},
   "outputs": [],
   "source": []
  },
  {
   "cell_type": "code",
   "execution_count": null,
   "metadata": {},
   "outputs": [],
   "source": []
  },
  {
   "cell_type": "code",
   "execution_count": null,
   "metadata": {},
   "outputs": [],
   "source": []
  },
  {
   "cell_type": "code",
   "execution_count": null,
   "metadata": {},
   "outputs": [],
   "source": []
  },
  {
   "cell_type": "code",
   "execution_count": null,
   "metadata": {},
   "outputs": [],
   "source": []
  },
  {
   "cell_type": "code",
   "execution_count": 11,
   "metadata": {},
   "outputs": [],
   "source": []
  },
  {
   "cell_type": "code",
   "execution_count": null,
   "metadata": {},
   "outputs": [],
   "source": []
  },
  {
   "cell_type": "code",
   "execution_count": null,
   "metadata": {},
   "outputs": [],
   "source": []
  },
  {
   "cell_type": "code",
   "execution_count": null,
   "metadata": {},
   "outputs": [],
   "source": []
  }
 ],
 "metadata": {
  "kernelspec": {
   "display_name": "Python 3",
   "language": "python",
   "name": "python3"
  },
  "language_info": {
   "codemirror_mode": {
    "name": "ipython",
    "version": 3
   },
   "file_extension": ".py",
   "mimetype": "text/x-python",
   "name": "python",
   "nbconvert_exporter": "python",
   "pygments_lexer": "ipython3",
   "version": "3.8.5"
  }
 },
 "nbformat": 4,
 "nbformat_minor": 4
}
