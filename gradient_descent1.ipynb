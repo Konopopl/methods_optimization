{
 "cells": [
  {
   "cell_type": "code",
   "execution_count": 3,
   "metadata": {},
   "outputs": [],
   "source": [
    "import numpy as np\n",
    "import matplotlib as mpl\n",
    "import matplotlib.pyplot as plt\n",
    "from matplotlib.pyplot import*\n",
    "from numpy import* \n",
    "import math as m\n",
    "import pylab\n",
    "import numpy as np\n",
    "from scipy import linalg as LA"
   ]
  },
  {
   "cell_type": "markdown",
   "metadata": {},
   "source": [
    "**функции из условия**\n",
    " \n",
    "$ f(x) = \\sum\\limits_{i = 1}^{n}b_i(x_i - a_i)^2, \\;\\; x \\in R^n $  \n",
    " \n",
    "$ f(x) = (x_i - 1)^2 + \\alpha\\sum\\limits_{i = 2}^{n}(x_i - x_{i - 1}^2)^2, \\;\\; x \\in R^n $ \n",
    "\n",
    "$ f(x) = \\sum\\limits_{i = 1}^{n}x_iln(\\frac{x_i}{\\xi_i}), \\;\\; x \\in R^n $\n"
   ]
  },
  {
   "cell_type": "code",
   "execution_count": 4,
   "metadata": {},
   "outputs": [],
   "source": [
    "def f(x, b = None, a = None):\n",
    "    if b == None:\n",
    "        b = [1 for i in range(len(x))]\n",
    "    if a == None:\n",
    "        a = [1 for i in range(len(x))]\n",
    "    f_x = 0\n",
    "    for i, el in enumerate(x):\n",
    "        f_x += b[i] * (el - a[i])**2\n",
    "    return f_x\n",
    "\n",
    "\n",
    "def xln(x, e=None): \n",
    "    if e == None:\n",
    "        e = [1 for i in range(len(x))]\n",
    "    xln_x = 0\n",
    "    for i in range(len(x)):\n",
    "        xln_x += x[i]*m.log(x[i] / e[i]) \n",
    "    return xln_x\n",
    "\n",
    "\n",
    "def h(x, a=None):\n",
    "    if a == None:\n",
    "        a = 1\n",
    "    f_x = (x[0] - 1)**2\n",
    "    for i in range(1, len(x)):\n",
    "        f_x += a * (x[i] - x[i-1])**2\n",
    "    return f_x"
   ]
  },
  {
   "cell_type": "code",
   "execution_count": 5,
   "metadata": {},
   "outputs": [],
   "source": [
    "def grad_f(x, a=None):\n",
    "    if a == None:\n",
    "        a = [1 for i in range(len(x))]\n",
    "    return 2*np.array([(el-a[i]) for i, el in enumerate(x)])  \n",
    "def grad_xln(x, e=None):\n",
    "    if e == None:\n",
    "        e = [1 for i in range(len(x))]\n",
    "    return np.array([np.log(el/e[i])+1 for i, el in enumerate(x)]) \n",
    "\n",
    "def grad_h(x, a =None):\n",
    "    if a == None:\n",
    "        a = 1\n",
    "    return np.array([2 * (x[0] - 1)] + [a * 2 * (x[i] - x[i-1]) - a * 2 * (x[i+1] - x[i]) for i in range(1, len(x) - 1)]\n",
    "                    + [a * 2 * (x[-1] - x[-2])])"
   ]
  },
  {
   "cell_type": "code",
   "execution_count": 6,
   "metadata": {},
   "outputs": [
    {
     "name": "stdout",
     "output_type": "stream",
     "text": [
      "(array([0.99999996, 1.00000003, 1.00000003, 1.00000003, 1.00000003,\n",
      "       1.00000003, 1.00000003, 1.00000003, 1.00000003, 1.00000003,\n",
      "       0.99999996, 1.00000006]), 1.3639679963472417e-14, 4)\n",
      "(array([0.36787954, 0.36787954, 0.36787944, 0.36788303]), -1.4715177646682829, 15)\n",
      "(array([0.99999999, 0.99999811]), 3.5631359465687908e-12, 5)\n"
     ]
    }
   ],
   "source": [
    "def goldstein_armijo(f_x_k, grad_f_x_k, g):\n",
    "    alpha = 0.95 \n",
    "    betta = 1 - alpha\n",
    "    N = LA.norm(grad_f_x_k)\n",
    "    N = N*N \n",
    "    phi_1 = lambda eta: f_x_k - eta*alpha*N\n",
    "    phi_2 = lambda eta: f_x_k - eta*betta*N\n",
    "    eta_k = 0.49\n",
    "    \n",
    "    a = phi_1(eta_k) \n",
    "    b = g(eta_k)     \n",
    "    c = phi_2(eta_k) \n",
    "  \n",
    "   \n",
    "    while (not(a <= b <= c)): \n",
    "        eta_k = eta_k / 2 \n",
    "        a = phi_1(eta_k)\n",
    "        b = g(eta_k)\n",
    "        c = phi_2(eta_k)\n",
    "       \n",
    "    return eta_k\n",
    "\n",
    "def log(arr):\n",
    "    \n",
    "    logger = []\n",
    "    \n",
    "    for i in range(len(arr)):\n",
    "        logger.append(arr[i])\n",
    "    return logger\n",
    "\n",
    "def gradient_decent(f, grad_f, x_0, e):\n",
    "  \n",
    "    global x_current\n",
    "    x_current = []\n",
    "    \n",
    "    p_k = np.array(-1*grad_f(x_0))\n",
    "\n",
    "    g = lambda lam : f(x_0 + lam * p_k)\n",
    "\n",
    "    lam_k = goldstein_armijo(f(x_0), p_k, g)\n",
    "\n",
    "    x_k = x_0 + lam_k * p_k\n",
    "    \n",
    "    x_current.append(log(x_k))\n",
    "    \n",
    "    p_k = np.array(-1 * grad_f(x_k))\n",
    "    N = 1\n",
    "\n",
    "    while LA.norm(p_k) > e:\n",
    "        N += 1\n",
    "        g = lambda lam: f(x_k + lam*p_k)          \n",
    "        lam_k = goldstein_armijo(f(x_k), p_k, g)\n",
    "\n",
    "        x_k += lam_k * p_k\n",
    "        x_current.append(log(x_k))\n",
    "        p_k = np.array(-1 * grad_f(x_k))\n",
    "        \n",
    "    return (x_k, f(x_k), N - 1)\n",
    "\n",
    "print(gradient_decent(f, grad_f, np.array([-10, 10, 10, 10, 10, 10, 10, 10, 10, 10, -10, 20]), 1e-5))\n",
    "print(gradient_decent(xln, grad_xln, np.array([4, 4, 1, 9]), 1e-5))\n",
    "print(gradient_decent(h, grad_h, np.array([-100, 100]), 1e-5))"
   ]
  },
  {
   "cell_type": "code",
   "execution_count": 7,
   "metadata": {},
   "outputs": [],
   "source": [
    "def norm_x(func, grad_func, arr,string, xlab, ylab, e=1e-5):\n",
    "    \n",
    "    x_k, f_x_k, N = gradientsp(func, grad_func, np.array(arr), e)\n",
    "    k = [i for i in range(N + 1)]\n",
    "    norma_x = [np.linalg.norm(x_current[i] - x_k) for i in range(len(x_current))]\n",
    "    \n",
    "    plt.plot(k, norma_x, linewidth = 2, label = ylab + '('+xlab+')')\n",
    "        \n",
    "    plt.title(string, size = 14)\n",
    "    plt.xlabel(xlab, size = 14)\n",
    "    plt.ylabel(ylab, size = 14)\n",
    "    plt.legend(loc = 'best')\n",
    "    plt.grid()\n",
    "    plt.show()\n",
    "    \n",
    "def norm_f_x(func, grad_func, arr, col, string, xlab, ylab, e = 1e-5):\n",
    "    \n",
    "    x_k, f_x_k, N = gradientsp(func, grad_func, np.array(arr), e)\n",
    "    k = [i for i in range(N + 1)]\n",
    "    norma_x = [func(x_current[i]) - f_x_k for i in range(len(x_current))]\n",
    "    \n",
    "    plt.plot(k, norma_x, color = col, linewidth = 2, label = ylab + '('+xlab+')')\n",
    "        \n",
    "    plt.title(string, size = 14)\n",
    "    plt.xlabel(xlab, size = 14)\n",
    "    plt.ylabel(ylab, size = 14)\n",
    "\n",
    "    plt.legend(loc = 'best')\n",
    "    plt.grid()\n",
    "    plt.show()\n",
    "    \n"
   ]
  },
  {
   "cell_type": "markdown",
   "metadata": {},
   "source": [
    "# xlnx, N(e)"
   ]
  },
  {
   "cell_type": "code",
   "execution_count": 18,
   "metadata": {},
   "outputs": [
    {
     "data": {
      "image/png": "[encoded data removed]",
      "text/plain": [
       "<Figure size 432x288 with 1 Axes>"
      ]
     },
     "metadata": {
      "needs_background": "light"
     },
     "output_type": "display_data"
    }
   ],
   "source": [
    "func = xln  \n",
    "grad_func = grad_xln  \n",
    "a = [1,1]\n",
    " \n",
    "string = 'N(e), xln(x)'\n",
    "xlab = '$\\epsilon$'\n",
    "ylab = 'N'\n",
    " \n",
    "eps = []\n",
    "i = 10\n",
    "    \n",
    "while i < 10000000:\n",
    "    i *= 10\n",
    "    eps.append(1/i)\n",
    "arr = [gradient_decent(func, grad_func, np.array(a), e)[-1] for e in eps]\n",
    "    \n",
    "        \n",
    "plt.plot(np.array(eps), arr, label = string)\n",
    "        \n",
    "plt.grid()\n",
    "plt.xlim([-0.001, 0.01])\n",
    "plt.title(string)\n",
    "plt.ylabel(ylab)\n",
    "plt.xlabel(xlab)\n",
    "plt.legend(loc = 'best')\n",
    "plt.show()"
   ]
  },
  {
   "cell_type": "markdown",
   "metadata": {},
   "source": [
    "# xlnx, $\\|x^k-x^*\\|(k)$"
   ]
  },
  {
   "cell_type": "code",
   "execution_count": 17,
   "metadata": {},
   "outputs": [
    {
     "data": {
      "image/png": "[encoded data removed]",
      "text/plain": [
       "<Figure size 432x288 with 1 Axes>"
      ]
     },
     "metadata": {
      "needs_background": "light"
     },
     "output_type": "display_data"
    }
   ],
   "source": [
    "func = xln\n",
    "grad_func = grad_xln\n",
    "arr = [3, 4, 5, 6]\n",
    "string = '|x^k-x^*|(k) for  xln(x)'\n",
    "xlab = 'k'   \n",
    "ylab = '|x^k-x^*|'\n",
    "e = 1e-5\n",
    "    \n",
    "x_k, f_x_k, N = gradient_decent(func, grad_func, np.array(arr), e)\n",
    "k = [i for i in range(N+1)]\n",
    "norma_x = [np.linalg.norm(x_current[i] - x_k) for i in range(len(x_current))]\n",
    "    \n",
    "plt.plot(k, norma_x, linewidth=2, label=ylab+'('+xlab+')')\n",
    "        \n",
    "\n",
    "plt.legend(loc='best')\n",
    "plt.grid()\n",
    "plt.show()"
   ]
  },
  {
   "cell_type": "markdown",
   "metadata": {},
   "source": [
    "# xlnx, $\\|f(x^k)-f(x^*)\\|(k)$"
   ]
  },
  {
   "cell_type": "code",
   "execution_count": 10,
   "metadata": {},
   "outputs": [
    {
     "data": {
      "image/png": "[encoded data removed]",
      "text/plain": [
       "<Figure size 432x288 with 1 Axes>"
      ]
     },
     "metadata": {
      "needs_background": "light"
     },
     "output_type": "display_data"
    }
   ],
   "source": [
    "func = xln\n",
    "grad_func = grad_xln\n",
    "arr = [4, 4, 1, 9]\n",
    "string = \"|f(x^k)-f(x^*)|(k) for xln(x)\"\n",
    "xlab = 'k'   \n",
    "ylab = '$\\|x^k-x^*\\|$'\n",
    "e = 1e-5\n",
    "    \n",
    "x_k, f_x_k, N = gradient_decent(func, grad_func, np.array(arr), e)\n",
    "k = [i for i in range(N + 1)]\n",
    "norma_x = [func(x_current[i]) - f_x_k for i in range(len(x_current))]\n",
    "\n",
    "plt.plot(k, norma_x, linewidth = 2, label = ylab + '('+xlab+')')\n",
    "\n",
    "plt.legend(loc = 'best')\n",
    "plt.grid()\n",
    "plt.show()\n",
    "    "
   ]
  },
  {
   "cell_type": "markdown",
   "metadata": {},
   "source": [
    "# f(x), N(e)"
   ]
  },
  {
   "cell_type": "code",
   "execution_count": 11,
   "metadata": {},
   "outputs": [
    {
     "data": {
      "image/png": "[encoded data removed]",
      "text/plain": [
       "<Figure size 432x288 with 1 Axes>"
      ]
     },
     "metadata": {
      "needs_background": "light"
     },
     "output_type": "display_data"
    }
   ],
   "source": [
    "func = f \n",
    "grad_func = grad_f  \n",
    "a = [16,4,9,8,4,7,10,10,10]\n",
    "\n",
    "string = 'N(e), f'\n",
    "xlab = '$\\epsilon$'\n",
    "ylab ='N'\n",
    "\n",
    "eps = []\n",
    "i = 10\n",
    "  \n",
    "while i < 10000000:\n",
    "    i *= 10\n",
    "    eps.append(1/i)\n",
    "arr = [gradient_decent(func, grad_func, np.array(a), e)[-1] for e in eps]\n",
    "    \n",
    "plt.plot(np.array(eps), arr, label = string)\n",
    "      \n",
    "plt.grid()\n",
    "plt.xlim([-0.001, 0.01])\n",
    "plt.title(string)\n",
    "plt.ylabel(ylab)\n",
    "plt.xlabel(xlab)\n",
    "plt.legend(loc = 'best')\n",
    "plt.show()"
   ]
  },
  {
   "cell_type": "markdown",
   "metadata": {},
   "source": [
    "# f(x), $\\|x^k-x^*\\|(k)$"
   ]
  },
  {
   "cell_type": "code",
   "execution_count": 12,
   "metadata": {},
   "outputs": [
    {
     "data": {
      "image/png": "[encoded data removed]",
      "text/plain": [
       "<Figure size 432x288 with 1 Axes>"
      ]
     },
     "metadata": {
      "needs_background": "light"
     },
     "output_type": "display_data"
    }
   ],
   "source": [
    "func = f\n",
    "grad_func = grad_f\n",
    "arr = [16,4,9,8,4,7,10,10,10]\n",
    "string = '|x^k-x^*|(k) for  f'\n",
    "xlab = 'k'   \n",
    "ylab = '$\\|x^k-x^*\\|$'\n",
    "e = 1e-5\n",
    "  \n",
    "x_k, f_x_k, N = gradient_decent(func, grad_func, np.array(arr), e)\n",
    "k = [i for i in range(N + 1)]\n",
    "norma_x = [np.linalg.norm(x_current[i] - x_k) for i in range(len(x_current))]\n",
    "  \n",
    "plt.plot(k, norma_x, linewidth = 2, label = ylab + '('+xlab+')')\n",
    "\n",
    "plt.legend(loc = 'best')\n",
    "plt.grid()\n",
    "plt.show()"
   ]
  },
  {
   "cell_type": "markdown",
   "metadata": {},
   "source": [
    "# f(x), $\\|f(x^k)-f(x^*)\\|(k)$"
   ]
  },
  {
   "cell_type": "code",
   "execution_count": 13,
   "metadata": {},
   "outputs": [
    {
     "data": {
      "image/png": "[encoded data removed]",
      "text/plain": [
       "<Figure size 432x288 with 1 Axes>"
      ]
     },
     "metadata": {
      "needs_background": "light"
     },
     "output_type": "display_data"
    }
   ],
   "source": [
    "func = f\n",
    "grad_func = grad_f\n",
    "arr = [16,4,9,8,4,7,10,10,10]\n",
    "string = \"|f(x^k)-f(x^*)|(k) for f\"\n",
    "xlab = 'k'   \n",
    "ylab = '$|f(x^k)-f(x^*)|$'\n",
    "e = 1e-5\n",
    " \n",
    "x_k, f_x_k, N = gradient_decent(func, grad_func, np.array(arr), e)\n",
    "k = [i for i in range(N+1)]\n",
    "norma_x = [func(x_current[i]) - f_x_k for i in range(len(x_current))]\n",
    "\n",
    "plt.plot(k, norma_x, linewidth = 2, label = ylab + '('+xlab+')')\n",
    "\n",
    "plt.legend(loc = 'best')\n",
    "plt.grid()\n",
    "plt.show()"
   ]
  },
  {
   "cell_type": "markdown",
   "metadata": {},
   "source": [
    "# h(x), N(e)"
   ]
  },
  {
   "cell_type": "code",
   "execution_count": 14,
   "metadata": {},
   "outputs": [
    {
     "data": {
      "image/png": "[encoded data removed]",
      "text/plain": [
       "<Figure size 432x288 with 1 Axes>"
      ]
     },
     "metadata": {
      "needs_background": "light"
     },
     "output_type": "display_data"
    }
   ],
   "source": [
    "func = h\n",
    "grad_func = grad_h  \n",
    "a = [16,4,9,8,4,7,10,10,10]\n",
    "\n",
    "string = 'N(e), h'\n",
    "xlab = '$\\epsilon$'\n",
    "ylab ='N'\n",
    "\n",
    "eps = []\n",
    "i = 10\n",
    "\n",
    "while i < 10000000:\n",
    "    i *= 10\n",
    "    eps.append(1/i)\n",
    "arr = [gradient_decent(func, grad_func, np.array(a), e)[-1] for e in eps]\n",
    "        \n",
    "plt.plot(np.array(eps), arr, label = string)\n",
    "     \n",
    "plt.grid()\n",
    "plt.xlim([-0.001, 0.01])\n",
    "plt.title(string)\n",
    "plt.ylabel(ylab)\n",
    "plt.xlabel(xlab)\n",
    "plt.legend(loc = 'best')\n",
    "plt.show()"
   ]
  },
  {
   "cell_type": "markdown",
   "metadata": {},
   "source": [
    "# h(x), $\\|x^k-x^*\\|(k)$"
   ]
  },
  {
   "cell_type": "code",
   "execution_count": 15,
   "metadata": {},
   "outputs": [
    {
     "data": {
      "image/png": "[encoded data removed]",
      "text/plain": [
       "<Figure size 432x288 with 1 Axes>"
      ]
     },
     "metadata": {
      "needs_background": "light"
     },
     "output_type": "display_data"
    }
   ],
   "source": [
    "func = h\n",
    "grad_func = grad_h\n",
    "arr = [16,4,9,8,4,7,10,10,10]\n",
    "string = '|x^k-x^*|(k) for  h'# f(x), $\\|x^k-x^*\\|(k)$\n",
    "xlab = 'k'   \n",
    "ylab = '$\\|x^k-x^*\\|$'\n",
    "e = 1e-5\n",
    " \n",
    "x_k, f_x_k, N = gradient_decent(func, grad_func, np.array(arr), e)\n",
    "k = [i for i in range(N + 1)]\n",
    "norma_x = [np.linalg.norm(x_current[i] - x_k) for i in range(len(x_current))]\n",
    " \n",
    "plt.plot(k, norma_x, linewidth = 2, label = ylab + '('+xlab+')')\n",
    "\n",
    "plt.legend(loc = 'best')\n",
    "plt.grid()\n",
    "plt.show()"
   ]
  },
  {
   "cell_type": "markdown",
   "metadata": {},
   "source": [
    "# h(x), $\\|f(x^k)-f(x^*)\\|(k)$"
   ]
  },
  {
   "cell_type": "code",
   "execution_count": 16,
   "metadata": {
    "scrolled": true
   },
   "outputs": [
    {
     "data": {
      "image/png": "[encoded data removed]",
      "text/plain": [
       "<Figure size 432x288 with 1 Axes>"
      ]
     },
     "metadata": {
      "needs_background": "light"
     },
     "output_type": "display_data"
    }
   ],
   "source": [
    "func = h\n",
    "grad_func = grad_h\n",
    "arr =  [16,4,9,8,4,7,10,10,10,19,23]\n",
    "string = \"|f(x^k)-f(x^*)|(k) for h\"\n",
    "xlab = 'k'   \n",
    "ylab = '$\\|x^k-x^*\\|$'\n",
    "e = 1e-5# f(x), $\\|f(x^k)-f(x^*)\\|(k)$\n",
    "  \n",
    "x_k, f_x_k, N = gradient_decent(func, grad_func, np.array(arr), e)\n",
    "k = [i for i in range(N + 1)]\n",
    "norma_x = [func(x_current[i]) - f_x_k for i in range(len(x_current))]\n",
    " \n",
    "plt.plot(k, norma_x, linewidth = 2, label = ylab + '('+xlab+')')\n",
    "\n",
    "plt.legend(loc = 'best')\n",
    "plt.grid()\n",
    "plt.show() "
   ]
  },
  {
   "cell_type": "code",
   "execution_count": null,
   "metadata": {},
   "outputs": [],
   "source": []
  }
 ],
 "metadata": {
  "kernelspec": {
   "display_name": "Python 3",
   "language": "python",
   "name": "python3"
  },
  "language_info": {
   "codemirror_mode": {
    "name": "ipython",
    "version": 3
   },
   "file_extension": ".py",
   "mimetype": "text/x-python",
   "name": "python",
   "nbconvert_exporter": "python",
   "pygments_lexer": "ipython3",
   "version": "3.8.5"
  }
 },
 "nbformat": 4,
 "nbformat_minor": 2
}
